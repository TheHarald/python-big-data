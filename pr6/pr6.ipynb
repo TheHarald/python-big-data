{
 "cells": [
  {
   "cell_type": "markdown",
   "metadata": {},
   "source": [
    " Загрузить данные из файла “ECDCCases.csv”"
   ]
  },
  {
   "cell_type": "code",
   "execution_count": 75,
   "metadata": {},
   "outputs": [],
   "source": [
    "import pandas as pd\n",
    "import numpy as np\n",
    "import matplotlib.pyplot as plt\n",
    "import warnings\n",
    "import scipy.stats as sts\n",
    "warnings.filterwarnings('ignore')"
   ]
  },
  {
   "cell_type": "code",
   "execution_count": 76,
   "metadata": {},
   "outputs": [
    {
     "name": "stdout",
     "output_type": "stream",
     "text": [
      "      dateRep  day  month  year  cases  deaths countriesAndTerritories geoId  \\\n",
      "0  14/12/2020   14     12  2020    746       6             Afghanistan    AF   \n",
      "1  13/12/2020   13     12  2020    298       9             Afghanistan    AF   \n",
      "2  12/12/2020   12     12  2020    113      11             Afghanistan    AF   \n",
      "3  12/12/2020   12     12  2020    113      11             Afghanistan    AF   \n",
      "4  11/12/2020   11     12  2020     63      10             Afghanistan    AF   \n",
      "\n",
      "  countryterritoryCode  popData2019 continentExp  \\\n",
      "0                  AFG   38041757.0         Asia   \n",
      "1                  AFG   38041757.0         Asia   \n",
      "2                  AFG   38041757.0         Asia   \n",
      "3                  AFG   38041757.0         Asia   \n",
      "4                  AFG   38041757.0         Asia   \n",
      "\n",
      "   Cumulative_number_for_14_days_of_COVID-19_cases_per_100000  \n",
      "0                                           9.013779           \n",
      "1                                           7.052776           \n",
      "2                                           6.868768           \n",
      "3                                           6.868768           \n",
      "4                                           7.134266           \n"
     ]
    },
    {
     "data": {
      "text/plain": [
       "dateRep                                                          0\n",
       "day                                                              0\n",
       "month                                                            0\n",
       "year                                                             0\n",
       "cases                                                            0\n",
       "deaths                                                           0\n",
       "countriesAndTerritories                                          0\n",
       "geoId                                                          275\n",
       "countryterritoryCode                                           123\n",
       "popData2019                                                    123\n",
       "continentExp                                                     0\n",
       "Cumulative_number_for_14_days_of_COVID-19_cases_per_100000    2879\n",
       "dtype: int64"
      ]
     },
     "execution_count": 76,
     "metadata": {},
     "output_type": "execute_result"
    }
   ],
   "source": [
    "data = pd.read_csv('ECDCCases.csv', sep=',')\n",
    "print(data.head())\n",
    "data.isnull().sum()"
   ]
  },
  {
   "cell_type": "code",
   "execution_count": 77,
   "metadata": {},
   "outputs": [
    {
     "name": "stdout",
     "output_type": "stream",
     "text": [
      "dateRep                                                       0.00\n",
      "day                                                           0.00\n",
      "month                                                         0.00\n",
      "year                                                          0.00\n",
      "cases                                                         0.00\n",
      "deaths                                                        0.00\n",
      "countriesAndTerritories                                       0.00\n",
      "geoId                                                         0.44\n",
      "countryterritoryCode                                          0.20\n",
      "popData2019                                                   0.20\n",
      "continentExp                                                  0.00\n",
      "Cumulative_number_for_14_days_of_COVID-19_cases_per_100000    4.65\n",
      "dtype: float64\n",
      "dateRep                    0\n",
      "day                        0\n",
      "month                      0\n",
      "year                       0\n",
      "cases                      0\n",
      "deaths                     0\n",
      "countriesAndTerritories    0\n",
      "countryterritoryCode       0\n",
      "popData2019                0\n",
      "continentExp               0\n",
      "dtype: int64\n"
     ]
    }
   ],
   "source": [
    "data.isnull().sum()\n",
    "print((data.isnull().sum() / len(data) * 100).round(2))\n",
    "data.drop(['Cumulative_number_for_14_days_of_COVID-19_cases_per_100000', 'geoId'], axis=1, inplace=True)\n",
    "data['countryterritoryCode'].fillna('other', inplace=True)\n",
    "data['popData2019'].fillna(data['popData2019'].median(), inplace=True)\n",
    "print(data.isnull().sum())\n",
    "\n"
   ]
  },
  {
   "cell_type": "code",
   "execution_count": 78,
   "metadata": {},
   "outputs": [
    {
     "name": "stdout",
     "output_type": "stream",
     "text": [
      "Кол-во дней\n",
      " countriesAndTerritories\n",
      "Argentina                   1\n",
      "Ecuador                     1\n",
      "Mexico                      1\n",
      "Peru                        2\n",
      "United_States_of_America    6\n",
      "Name: deaths, dtype: int64\n",
      "                day         month          year          cases        deaths  \\\n",
      "count  61904.000000  61904.000000  61904.000000   61904.000000  61904.000000   \n",
      "mean      15.629232      7.067104   2019.998918    1155.079026     26.053987   \n",
      "std        8.841624      2.954816      0.032881    6779.010824    131.222948   \n",
      "min        1.000000      1.000000   2019.000000   -8261.000000  -1918.000000   \n",
      "25%        8.000000      5.000000   2020.000000       0.000000      0.000000   \n",
      "50%       15.000000      7.000000   2020.000000      15.000000      0.000000   \n",
      "75%       23.000000     10.000000   2020.000000     273.000000      4.000000   \n",
      "max       31.000000     12.000000   2020.000000  234633.000000   4928.000000   \n",
      "\n",
      "        popData2019  \n",
      "count  6.190400e+04  \n",
      "mean   4.091909e+07  \n",
      "std    1.529798e+08  \n",
      "min    8.150000e+02  \n",
      "25%    1.324820e+06  \n",
      "50%    7.169456e+06  \n",
      "75%    2.851583e+07  \n",
      "max    1.433784e+09  \n"
     ]
    },
    {
     "data": {
      "image/png": "[encoded data removed]",
      "text/plain": [
       "<Figure size 700x200 with 1 Axes>"
      ]
     },
     "metadata": {},
     "output_type": "display_data"
    }
   ],
   "source": [
    "print('Кол-во дней\\n',data[data['deaths'] > 3000].groupby('countriesAndTerritories')['deaths'].count())\n",
    "print(data.describe())\n",
    "\n",
    "plt.figure(figsize=(7, 2))\n",
    "plt.boxplot(data['cases'], labels=['cases'], vert=False)\n",
    "plt.grid()\n",
    "plt.show()\n"
   ]
  },
  {
   "cell_type": "code",
   "execution_count": 79,
   "metadata": {},
   "outputs": [
    {
     "data": {
      "image/png": "[encoded data removed]",
      "text/plain": [
       "<Figure size 700x200 with 1 Axes>"
      ]
     },
     "metadata": {},
     "output_type": "display_data"
    }
   ],
   "source": [
    "plt.figure(figsize=(7, 2))\n",
    "plt.boxplot(data['deaths'], labels=['deaths'], vert = False)\n",
    "plt.boxplot(data['popData2019'], labels=['popData2019'], vert = False)\n",
    "plt.grid()\n",
    "plt.show()"
   ]
  },
  {
   "cell_type": "code",
   "execution_count": 80,
   "metadata": {},
   "outputs": [
    {
     "data": {
      "image/png": "[encoded data removed]",
      "text/plain": [
       "<Figure size 700x200 with 1 Axes>"
      ]
     },
     "metadata": {},
     "output_type": "display_data"
    }
   ],
   "source": [
    "plt.figure(figsize=(7, 2))\n",
    "plt.boxplot(data['popData2019'], labels=['popData2019'], vert = False)\n",
    "plt.grid()\n",
    "plt.show()"
   ]
  },
  {
   "cell_type": "code",
   "execution_count": 86,
   "metadata": {},
   "outputs": [
    {
     "name": "stdout",
     "output_type": "stream",
     "text": [
      "0\n"
     ]
    }
   ],
   "source": [
    "\n",
    "count = data.duplicated().sum()\n",
    "data.drop_duplicates(inplace=True)\n",
    "\n",
    "print(data.duplicated().sum())\n"
   ]
  },
  {
   "cell_type": "code",
   "execution_count": 82,
   "metadata": {},
   "outputs": [
    {
     "name": "stdout",
     "output_type": "stream",
     "text": [
      "northwest statistics=0.995, p=0.466\n",
      "Выборка нормальна\n",
      "southwest statistics=0.995, p=0.363\n",
      "Выборка нормальна\n",
      "Statistics=3.400, p=0.065\n",
      "Дисперсии равны\n",
      "Средние значения не равны\n"
     ]
    }
   ],
   "source": [
    "data = pd.read_csv('bmi.csv', sep=',')\n",
    "data_northwest = data[data['region'] == 'northwest']\n",
    "data_southwest = data[data['region'] == 'southwest']\n",
    "stat, p = sts.shapiro(data_northwest['bmi'])\n",
    "print('northwest statistics=%.3f, p=%.3f' % (stat, p))\n",
    "if p > 0.05:\n",
    "    print('Выборка нормальна')\n",
    "else:\n",
    "    print('Выборка не нормальна')\n",
    "\n",
    "stat, p = sts.shapiro(data_southwest['bmi'])\n",
    "print('southwest statistics=%.3f, p=%.3f' % (stat, p))\n",
    "if p > 0.05:\n",
    "    print('Выборка нормальна')\n",
    "else:\n",
    "    print('Выборка не нормальна')\n",
    "\n",
    "\n",
    "stat, p = sts.bartlett(data_northwest['bmi'], data_southwest['bmi'])\n",
    "print('Statistics=%.3f, p=%.3f' % (stat, p))\n",
    "if p > 0.05:\n",
    "    print('Дисперсии равны')\n",
    "else:\n",
    "    print('Дисперсии не равны')\n",
    "\n",
    "t_res = sts.ttest_ind(data_northwest['bmi'], data_southwest['bmi'])\n",
    "if t_res.pvalue < 0.05:\n",
    "    print('Средние значения не равны')\n",
    "else:\n",
    "    print('Средние значения равны')\n",
    "\n"
   ]
  },
  {
   "cell_type": "code",
   "execution_count": 83,
   "metadata": {},
   "outputs": [
    {
     "name": "stdout",
     "output_type": "stream",
     "text": [
      "Распределение равномерно\n",
      "Переменные не зависимы\n"
     ]
    }
   ],
   "source": [
    "\n",
    "result = {\n",
    "    '1': 97,\n",
    "    '2': 98,\n",
    "    '3': 109,\n",
    "    '4': 95,\n",
    "    '5': 97,\n",
    "    '6': 104\n",
    "}\n",
    "\n",
    "observed = np.array(list(result.values()))\n",
    "expected = np.array([100, 100, 100, 100, 100, 100])\n",
    "\n",
    "data = pd.DataFrame({'points':result.keys(),'observed': observed, 'expected': expected})\n",
    "\n",
    "chisquare_result = sts.chisquare(data['observed'], data['expected'])\n",
    "if(chisquare_result.pvalue < 0.05):\n",
    "    print('Распределение не равномерно')\n",
    "else:\n",
    "    print('Распределение равномерно')\n",
    "\n",
    "chi2_contingency_result = sts.chi2_contingency(data[['observed', 'expected']])\n",
    "if(chi2_contingency_result[1] < 0.05):\n",
    "    print('Переменные зависимы')\n",
    "else:\n",
    "    print('Переменные не зависимы')\n",
    "\n",
    "\n",
    "\n",
    "\n"
   ]
  },
  {
   "cell_type": "code",
   "execution_count": 84,
   "metadata": {},
   "outputs": [
    {
     "name": "stdout",
     "output_type": "stream",
     "text": [
      "Переменные зависимы\n"
     ]
    }
   ],
   "source": [
    "\n",
    "data = pd.DataFrame({'Женат': [89,17,11,43,22,1],\n",
    " 'Гражданский брак': [80,22,20,35,6,4],\n",
    " 'Не состоит в отношениях': [35,44,35,6,8,22]})\n",
    "data.index = ['Полный рабочий день','Частичная занятость','Временно не работает','На домохозяйстве','На пенсии','Учёба']\n",
    "\n",
    "chi2_contingency_result = sts.chi2_contingency(data)\n",
    "if(chi2_contingency_result[1] < 0.05):\n",
    "    print('Переменные зависимы')\n",
    "else:\n",
    "    print('Переменные не зависимы')\n",
    "\n",
    "\n",
    "\n",
    "\n"
   ]
  },
  {
   "cell_type": "code",
   "execution_count": null,
   "metadata": {},
   "outputs": [],
   "source": []
  }
 ],
 "metadata": {
  "kernelspec": {
   "display_name": "Python 3.10.6 64-bit (microsoft store)",
   "language": "python",
   "name": "python3"
  },
  "language_info": {
   "codemirror_mode": {
    "name": "ipython",
    "version": 3
   },
   "file_extension": ".py",
   "mimetype": "text/x-python",
   "name": "python",
   "nbconvert_exporter": "python",
   "pygments_lexer": "ipython3",
   "version": "3.10.6"
  },
  "orig_nbformat": 4,
  "vscode": {
   "interpreter": {
    "hash": "ef21244b59714f659480d92e51cb2aa999cf13ad1ddf78479ca869543555f687"
   }
  }
 },
 "nbformat": 4,
 "nbformat_minor": 2
}
