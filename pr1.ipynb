{
 "cells": [
  {
   "cell_type": "markdown",
   "metadata": {},
   "source": [
    "# Суринов Роман Альбертович ИВБО-07-19\n",
    "## Технологии и инструментарий анализа больших данных \n",
    "### Практическая работа 1"
   ]
  },
  {
   "cell_type": "markdown",
   "metadata": {},
   "source": [
    "#### 2 Задание\n",
    "Написать программу, которая вычисляет площадь фигуры,\n",
    "параметры которой подаются на вход. Фигуры, которые подаются на вход:\n",
    "треугольник, прямоугольник, круг. Результатом работы является словарь, где\n",
    "ключ – это название фигуры, а значение – это площадь"
   ]
  },
  {
   "cell_type": "code",
   "execution_count": 2,
   "metadata": {},
   "outputs": [
    {
     "name": "stdout",
     "output_type": "stream",
     "text": [
      "{'triangle': 6.0}\n",
      "{'rectangle': 8}\n",
      "{'circle': 28.274333882308138}\n"
     ]
    }
   ],
   "source": [
    "from cmath import pi, sqrt\n",
    "\n",
    "\n",
    "def square(*args):\n",
    "    a = args[0]\n",
    "    if(len(args) == 1):\n",
    "        return { \"circle\": pi*args[0]*args[0]}\n",
    "    if(len(args) == 2):\n",
    "        return { \"rectangle\":  args[0]*args[1]}\n",
    "    if(len(args) == 3):\n",
    "        b = args[1]\n",
    "        c = args[2]\n",
    "        p = (a+b+c)/2\n",
    "        return { \"triangle\":  sqrt(p*(p-a)*(p-b)*(p-c)).real}\n",
    "\n",
    "print(square(3.0,4.0,5.0))\n",
    "print(square(2,4))\n",
    "print(square(3))\n"
   ]
  },
  {
   "cell_type": "markdown",
   "metadata": {},
   "source": [
    "#### 3 Задание\n",
    "Написать программу, которая на вход получает два числа и\n",
    "операцию, которую к ним нужно применить. Должны быть реализованы\n",
    "следующие операции: +, -, /, //, abs – модуль, pow или ** – возведение в\n",
    "степень. Результатом работы программы является одно число."
   ]
  },
  {
   "cell_type": "code",
   "execution_count": 3,
   "metadata": {},
   "outputs": [
    {
     "name": "stdout",
     "output_type": "stream",
     "text": [
      "8\n",
      "2\n",
      "1.6666666666666667\n",
      "1\n",
      "125\n",
      "125\n",
      "2\n"
     ]
    }
   ],
   "source": [
    "def calc(a,b,operation):\n",
    "    if(operation == '+'):\n",
    "        return a+b\n",
    "    if(operation == '-'):\n",
    "        return a-b\n",
    "    if(operation == '*'):\n",
    "        return a*b\n",
    "    if(operation == '/'):\n",
    "        return a/b\n",
    "    if(operation == '//'):\n",
    "        return a//b\n",
    "    if(operation == 'pow' or operation == '**'):\n",
    "        return pow(a,b)\n",
    "    if(operation == 'abs'):\n",
    "        return abs(b-a) if a>b  else  abs(a-b)\n",
    "\n",
    "\n",
    "print(calc(5,3,'+'))\n",
    "print(calc(5,3,'-'))\n",
    "print(calc(5,3,'/'))\n",
    "print(calc(5,3,'//'))\n",
    "print(calc(5,3,'**'))\n",
    "print(calc(5,3,'pow'))\n",
    "print(calc(5,3,'abs'))\n"
   ]
  },
  {
   "cell_type": "markdown",
   "metadata": {},
   "source": [
    "#### 4 Задание\n",
    "Написать программу, вычисляющую площадь треугольника по\n",
    "переданным длинам трёх его сторон по формуле Герона. На вход программе подаются целые числа, выводом программы должно\n",
    "являться вещественное число, соответствующее площади треугольника."
   ]
  },
  {
   "cell_type": "code",
   "execution_count": 4,
   "metadata": {},
   "outputs": [
    {
     "name": "stdout",
     "output_type": "stream",
     "text": [
      "6.0\n",
      "30.0\n",
      "7.806247497997997\n"
     ]
    }
   ],
   "source": [
    "def geron(a,b,c):\n",
    "    p = (a+b+c)/2\n",
    "    return sqrt(p*(p-a)*(p-b)*(p-c)).real\n",
    "\n",
    "\n",
    "print(geron(3,5,4))\n",
    "print(geron(5,12,13))\n",
    "print(geron(5,4,4))"
   ]
  },
  {
   "cell_type": "markdown",
   "metadata": {},
   "source": [
    "### Вывод\n",
    " В процессе выполнения практической работы были выполнениы все задания. Для выполнения задания использовалась функция sqrt для вычисления квадратного корня и для получения числа пи из библеотеки cmath - [ссылка](https://docs.python.org/3/library/math.html)"
   ]
  }
 ],
 "metadata": {
  "kernelspec": {
   "display_name": "Python 3.10.6 64-bit (microsoft store)",
   "language": "python",
   "name": "python3"
  },
  "language_info": {
   "codemirror_mode": {
    "name": "ipython",
    "version": 3
   },
   "file_extension": ".py",
   "mimetype": "text/x-python",
   "name": "python",
   "nbconvert_exporter": "python",
   "pygments_lexer": "ipython3",
   "version": "3.10.6"
  },
  "orig_nbformat": 4,
  "vscode": {
   "interpreter": {
    "hash": "ef21244b59714f659480d92e51cb2aa999cf13ad1ddf78479ca869543555f687"
   }
  }
 },
 "nbformat": 4,
 "nbformat_minor": 2
}
